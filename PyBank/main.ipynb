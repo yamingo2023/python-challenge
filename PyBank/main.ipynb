{
 "cells": [
  {
   "cell_type": "code",
   "execution_count": 73,
   "id": "d8039cdd-8775-496f-954c-56e340386bab",
   "metadata": {},
   "outputs": [],
   "source": [
    "from pathlib import Path\n",
    "import csv\n"
   ]
  },
  {
   "cell_type": "code",
   "execution_count": 74,
   "id": "0ee3b058-9011-4309-8320-92d9709d1bf6",
   "metadata": {},
   "outputs": [],
   "source": [
    "csvpath = Path(\"C:/Users/jorge/Desktop/Fintech/python-challenge/Starter_Code/PyBank/Resources/budget_data.csv\")"
   ]
  },
  {
   "cell_type": "code",
   "execution_count": 75,
   "id": "f77b1ab1-f276-4f32-96c0-745ff1b07e60",
   "metadata": {},
   "outputs": [],
   "source": [
    "budget_data = pd.read_csv(file_path)"
   ]
  },
  {
   "cell_type": "code",
   "execution_count": 84,
   "id": "ec67476f-8793-47be-a34a-fca14624b5c8",
   "metadata": {},
   "outputs": [],
   "source": [
    "total_months = 0\n",
    "profit_loss = 0\n",
    "\n",
    "previous_profit_loss = 0 \n",
    "total_profit_loss_change = 0\n",
    "greatest_increase_profit = 0\n",
    "greatest_increase_date = \"\"\n",
    "greatest_decrease_loss = 0\n",
    "greatest_decrease_date = \"\"\n",
    "total_change = 0\n"
   ]
  },
  {
   "cell_type": "code",
   "execution_count": 85,
   "id": "97da89d3-6318-4861-9963-b179504b6d5a",
   "metadata": {},
   "outputs": [
    {
     "name": "stdout",
     "output_type": "stream",
     "text": [
      "Total Months: 86\n",
      "Net Total Profit/Losses: 38382578\n",
      "Average Change: 7895.282352941176\n",
      "Greatest Increase in Profits: Feb-2012 (1926159)\n",
      "Greatest Decrease in Losses: Sep-2013 (-2196167)\n"
     ]
    }
   ],
   "source": [
    "with open (csvpath, 'r') as csvfile:\n",
    "    csvreader = csv.reader(csvfile, delimiter=',')\n",
    "    header = next(csvreader)\n",
    "    for row in csvreader:\n",
    "        total_months += 1\n",
    "        profit_loss += int(row[1])\n",
    "        change = int(row[1]) - previous_profit_loss\n",
    "        total_change += change\n",
    "        if change > greatest_increase_profit:\n",
    "            greatest_increase_profit = change\n",
    "            greatest_increase_date = row[0]\n",
    "        if change < greatest_decrease_loss:\n",
    "            greatest_decrease_loss = change\n",
    "            greatest_decrease_date = row[0]\n",
    "        previous_profit_loss = int(row[1])\n",
    "        \n",
    "average_change = total_change / (total_months - 1)\n",
    "\n",
    "print(f\"Total Months: {total_months}\")\n",
    "print(f\"Net Total Profit/Losses: {profit_loss}\")\n",
    "print(f\"Average Change: {average_change}\")\n",
    "print(f\"Greatest Increase in Profits: {greatest_increase_date} ({greatest_increase_profit})\")\n",
    "print(f\"Greatest Decrease in Losses: {greatest_decrease_date} ({greatest_decrease_loss})\")"
   ]
  },
  {
   "cell_type": "code",
   "execution_count": 78,
   "id": "0fd806a9-d314-45c3-9d8a-2d25e7620328",
   "metadata": {},
   "outputs": [
    {
     "name": "stdout",
     "output_type": "stream",
     "text": [
      "Net Changes: 446309.0465116279\n"
     ]
    }
   ],
   "source": [
    "net_changes = profit_loss / total_months\n",
    "print(f\"Net Changes: {net_changes}\")"
   ]
  },
  {
   "cell_type": "code",
   "execution_count": null,
   "id": "44177a45-135d-4826-b7d0-4d10abe1bc81",
   "metadata": {},
   "outputs": [],
   "source": []
  }
 ],
 "metadata": {
  "kernelspec": {
   "display_name": "Python 3 (ipykernel)",
   "language": "python",
   "name": "python3"
  },
  "language_info": {
   "codemirror_mode": {
    "name": "ipython",
    "version": 3
   },
   "file_extension": ".py",
   "mimetype": "text/x-python",
   "name": "python",
   "nbconvert_exporter": "python",
   "pygments_lexer": "ipython3",
   "version": "3.10.9"
  }
 },
 "nbformat": 4,
 "nbformat_minor": 5
}
