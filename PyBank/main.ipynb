{
 "cells": [
  {
   "cell_type": "code",
   "execution_count": null,
   "id": "d8039cdd-8775-496f-954c-56e340386bab",
   "metadata": {},
   "outputs": [],
   "source": [
    "from pathlib import Path\n",
    "import csv\n"
   ]
  },
  {
   "cell_type": "code",
   "execution_count": null,
   "id": "0ee3b058-9011-4309-8320-92d9709d1bf6",
   "metadata": {},
   "outputs": [],
   "source": [
    "csvpath = Path(../Starter_Code/PyBank/Resources/budget_data.csv"
   ]
  },
  {
   "cell_type": "code",
   "execution_count": null,
   "id": "f77b1ab1-f276-4f32-96c0-745ff1b07e60",
   "metadata": {},
   "outputs": [],
   "source": []
  }
 ],
 "metadata": {
  "kernelspec": {
   "display_name": "Python 3 (ipykernel)",
   "language": "python",
   "name": "python3"
  },
  "language_info": {
   "name": ""
  }
 },
 "nbformat": 4,
 "nbformat_minor": 5
}
